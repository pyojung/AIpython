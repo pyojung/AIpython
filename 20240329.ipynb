{
  "nbformat": 4,
  "nbformat_minor": 0,
  "metadata": {
    "colab": {
      "provenance": [],
      "authorship_tag": "ABX9TyMFyceMZtkDlGs94fs12+VI",
      "include_colab_link": true
    },
    "kernelspec": {
      "name": "python3",
      "display_name": "Python 3"
    },
    "language_info": {
      "name": "python"
    }
  },
  "cells": [
    {
      "cell_type": "markdown",
      "metadata": {
        "id": "view-in-github",
        "colab_type": "text"
      },
      "source": [
        "<a href=\"https://colab.research.google.com/github/pyojung/AIpython/blob/main/20240329.ipynb\" target=\"_parent\"><img src=\"https://colab.research.google.com/assets/colab-badge.svg\" alt=\"Open In Colab\"/></a>"
      ]
    },
    {
      "cell_type": "code",
      "execution_count": 9,
      "metadata": {
        "colab": {
          "base_uri": "https://localhost:8080/"
        },
        "id": "-ZhU0yWRBjNI",
        "outputId": "ec1a494a-6f9f-43e6-c1df-12e965b936d6"
      },
      "outputs": [
        {
          "output_type": "stream",
          "name": "stdout",
          "text": [
            "100\n",
            "1시간 40분\n"
          ]
        }
      ],
      "source": [
        "minutes = int(input())\n",
        "\n",
        "hours = minutes // 60\n",
        "remaining_minutes = minutes % 60\n",
        "\n",
        "# 결과 출력\n",
        "print(\"{}시간 {}분\".format(hours, remaining_minutes))"
      ]
    },
    {
      "cell_type": "code",
      "source": [
        "cel = float(input())\n",
        "\n",
        "fa = (cel * 1.8) + 32\n",
        "\n",
        "print(\"섭씨 %0.0f도는 화씨 %0.1f도 입니다.\"%(cel,fa))"
      ],
      "metadata": {
        "colab": {
          "base_uri": "https://localhost:8080/"
        },
        "id": "-TgP3cYJCQAh",
        "outputId": "f6a7805b-9b94-4a59-c8c1-e3ba5a8f334e"
      },
      "execution_count": 6,
      "outputs": [
        {
          "output_type": "stream",
          "name": "stdout",
          "text": [
            "31\n",
            "섭씨 31도는 화씨 87.8도 입니다.\n"
          ]
        }
      ]
    },
    {
      "cell_type": "code",
      "source": [
        "PI = 3.14\n",
        "\n",
        "radius = float(input(\"원의 반지름을 입력: \"))\n",
        "\n",
        "circumference = 2 * PI * radius\n",
        "\n",
        "area = PI * radius ** 2\n",
        "\n",
        "print(f\"반지름이 {PI}인 원의 둘레는 {circumference:.1f}이고, 면적은 {area:.1f}입니다.\")"
      ],
      "metadata": {
        "colab": {
          "base_uri": "https://localhost:8080/"
        },
        "id": "wKoYQrR2CQRB",
        "outputId": "d7074e15-e70b-4253-a7cc-35831ba0f601"
      },
      "execution_count": 12,
      "outputs": [
        {
          "output_type": "stream",
          "name": "stdout",
          "text": [
            "원의 반지름을 입력: 15\n",
            "반지름이 3.14인 원의 둘레는 94.2이고, 면적은 706.5입니다.\n"
          ]
        }
      ]
    }
  ]
}