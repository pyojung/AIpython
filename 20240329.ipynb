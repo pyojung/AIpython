{
  "nbformat": 4,
  "nbformat_minor": 0,
  "metadata": {
    "colab": {
      "provenance": [],
      "toc_visible": true,
      "authorship_tag": "ABX9TyPZcRPALAmVNjpO1pEqmzmP",
      "include_colab_link": true
    },
    "kernelspec": {
      "name": "python3",
      "display_name": "Python 3"
    },
    "language_info": {
      "name": "python"
    }
  },
  "cells": [
    {
      "cell_type": "markdown",
      "metadata": {
        "id": "view-in-github",
        "colab_type": "text"
      },
      "source": [
        "<a href=\"https://colab.research.google.com/github/pyojung/AIpython/blob/main/20240329.ipynb\" target=\"_parent\"><img src=\"https://colab.research.google.com/assets/colab-badge.svg\" alt=\"Open In Colab\"/></a>"
      ]
    },
    {
      "cell_type": "code",
      "execution_count": 17,
      "metadata": {
        "colab": {
          "base_uri": "https://localhost:8080/"
        },
        "id": "-ZhU0yWRBjNI",
        "outputId": "184c1cab-02c0-430c-ec02-588cbe51d9aa"
      },
      "outputs": [
        {
          "output_type": "stream",
          "name": "stdout",
          "text": [
            "100\n",
            "100 -> 1시간 40분\n"
          ]
        }
      ],
      "source": [
        "minutes = int(input())\n",
        "\n",
        "hours = minutes // 60\n",
        "remaining_minutes = minutes % 60\n",
        "\n",
        "# 결과 출력\n",
        "print(\"{:d} -> {:d}시간 {:d}분\".format(minutes,hours, remaining_minutes))"
      ]
    },
    {
      "cell_type": "code",
      "source": [
        "cel = int(input())\n",
        "\n",
        "fa = (cel * 1.8) + 32\n",
        "\n",
        "print(\"섭씨 %d도는 화씨 %.1f도 입니다.\"%(cel,fa))"
      ],
      "metadata": {
        "colab": {
          "base_uri": "https://localhost:8080/"
        },
        "id": "-TgP3cYJCQAh",
        "outputId": "76e0c2d6-6437-47dd-9350-785f63f44730"
      },
      "execution_count": 20,
      "outputs": [
        {
          "output_type": "stream",
          "name": "stdout",
          "text": [
            "31\n",
            "섭씨 31도는 화씨 87.8도 입니다.\n"
          ]
        }
      ]
    },
    {
      "cell_type": "code",
      "source": [
        "PI = 3.14\n",
        "\n",
        "radius = float(input(\"원의 반지름을 입력: \"))\n",
        "\n",
        "circumference = 2 * PI * radius\n",
        "\n",
        "area = PI * (radius ** 2)\n",
        "\n",
        "print(f\"반지름이 {radius:.0f}인 원의 둘레는 {circumference:.1f}이고, 면적은 {area:.1f}입니다.\")"
      ],
      "metadata": {
        "colab": {
          "base_uri": "https://localhost:8080/"
        },
        "id": "wKoYQrR2CQRB",
        "outputId": "1405ab04-f00c-439c-9763-5fb5476b4c2d"
      },
      "execution_count": 21,
      "outputs": [
        {
          "output_type": "stream",
          "name": "stdout",
          "text": [
            "원의 반지름을 입력: 15\n",
            "반지름이 15인 원의 둘레는 94.2이고, 면적은 706.5입니다.\n"
          ]
        }
      ]
    }
  ]
}