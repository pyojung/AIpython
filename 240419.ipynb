{
  "nbformat": 4,
  "nbformat_minor": 0,
  "metadata": {
    "colab": {
      "provenance": [],
      "authorship_tag": "ABX9TyMBd04lnd7N6qAADpKoxQN4",
      "include_colab_link": true
    },
    "kernelspec": {
      "name": "python3",
      "display_name": "Python 3"
    },
    "language_info": {
      "name": "python"
    }
  },
  "cells": [
    {
      "cell_type": "markdown",
      "metadata": {
        "id": "view-in-github",
        "colab_type": "text"
      },
      "source": [
        "<a href=\"https://colab.research.google.com/github/pyojung/AIpython/blob/main/240419.ipynb\" target=\"_parent\"><img src=\"https://colab.research.google.com/assets/colab-badge.svg\" alt=\"Open In Colab\"/></a>"
      ]
    },
    {
      "cell_type": "code",
      "execution_count": 14,
      "metadata": {
        "colab": {
          "base_uri": "https://localhost:8080/"
        },
        "id": "5s7stcXp8MJ5",
        "outputId": "d6a57ce3-aea3-40d2-8702-66d84bafb218"
      },
      "outputs": [
        {
          "output_type": "stream",
          "name": "stdout",
          "text": [
            "학생의 점수를 입력하세요.90\n",
            "학생의 점수를 입력하세요.70\n",
            "학생의 점수를 입력하세요.30\n",
            "학생의 점수를 입력하세요.x\n",
            "입력 데이터 출력: [90, 70, 30]\n",
            "합계: 190\n",
            "인원수: 3\n",
            "평균: 63.333333333333336\n"
          ]
        }
      ],
      "source": [
        "scores = []\n",
        "while True:\n",
        "  score = input(\"학생의 점수를 입력하세요.\")\n",
        "  if score.isdigit():\n",
        "    scores.append(int(score))\n",
        "  else:\n",
        "    break\n",
        "sum_scores = sum(scores)\n",
        "len_scores = len(scores)\n",
        "average_scores = sum(scores)/len(scores)\n",
        "print(\"입력 데이터 출력:\",scores)\n",
        "print(\"합계:\",sum_scores)\n",
        "print(\"인원수:\",len_scores)\n",
        "print(\"평균:\",average_scores)"
      ]
    },
    {
      "cell_type": "code",
      "source": [
        "fruit = \"apple#banana#cherry#orange\"\n",
        "x= fruit.split(\"#\")\n",
        "print(x)"
      ],
      "metadata": {
        "colab": {
          "base_uri": "https://localhost:8080/"
        },
        "id": "SuFUU_m0XoPE",
        "outputId": "1975772f-524a-4df2-c97a-13b33d3f57a3"
      },
      "execution_count": 15,
      "outputs": [
        {
          "output_type": "stream",
          "name": "stdout",
          "text": [
            "['apple', 'banana', 'cherry', 'orange']\n"
          ]
        }
      ]
    },
    {
      "cell_type": "code",
      "source": [
        "lang= {'Python', 'Java', 'Ruby'}\n",
        "x = \"->\".join(lang)\n",
        "print(x)"
      ],
      "metadata": {
        "colab": {
          "base_uri": "https://localhost:8080/"
        },
        "id": "IpDk1cXEXoY9",
        "outputId": "5f62fbc1-65b6-4606-e31c-f727ceaca031"
      },
      "execution_count": 16,
      "outputs": [
        {
          "output_type": "stream",
          "name": "stdout",
          "text": [
            "Java->Ruby->Python\n"
          ]
        }
      ]
    },
    {
      "cell_type": "code",
      "source": [
        "number_list = [ x**2 for x in range(10) if x % 2 == 0]\n",
        "print(number_list)"
      ],
      "metadata": {
        "colab": {
          "base_uri": "https://localhost:8080/"
        },
        "id": "EdnziLFkXtC8",
        "outputId": "397bfbf2-8e8f-4022-94d5-ba50b048c7cb"
      },
      "execution_count": 17,
      "outputs": [
        {
          "output_type": "stream",
          "name": "stdout",
          "text": [
            "[0, 4, 16, 36, 64]\n"
          ]
        }
      ]
    },
    {
      "cell_type": "code",
      "source": [
        "even_list = [ x for x in range(1,11) if x % 2 == 0]\n",
        "print(even_list)"
      ],
      "metadata": {
        "colab": {
          "base_uri": "https://localhost:8080/"
        },
        "id": "fWcPKV6TXwEM",
        "outputId": "df4ddb14-95ff-47b1-92a3-6bc89a3a032a"
      },
      "execution_count": 18,
      "outputs": [
        {
          "output_type": "stream",
          "name": "stdout",
          "text": [
            "[2, 4, 6, 8, 10]\n"
          ]
        }
      ]
    },
    {
      "cell_type": "code",
      "source": [
        "citys =  [\"Seoul\", \"New York\", \"London\", \"Shanghai\", \"Paris\", \"Tokyo\"]\n",
        "S_citys = [ x for x in citys if x.startswith(\"S\")]\n",
        "print(S_citys)"
      ],
      "metadata": {
        "colab": {
          "base_uri": "https://localhost:8080/"
        },
        "id": "UmiBoftVX0wM",
        "outputId": "8f40fe0a-7343-4011-c4d0-813f41f2c120"
      },
      "execution_count": 19,
      "outputs": [
        {
          "output_type": "stream",
          "name": "stdout",
          "text": [
            "['Seoul', 'Shanghai']\n"
          ]
        }
      ]
    },
    {
      "cell_type": "code",
      "source": [
        "langs =  ['Python', 'Java', 'JavaScript']\n",
        "newlst = [(idx,lang) for idx,lang in enumerate(langs)]\n",
        "print(newlst)"
      ],
      "metadata": {
        "colab": {
          "base_uri": "https://localhost:8080/"
        },
        "id": "G27WSwJ4X8dM",
        "outputId": "33d0a85a-c3cd-4903-cb77-c17beb5da4e2"
      },
      "execution_count": 20,
      "outputs": [
        {
          "output_type": "stream",
          "name": "stdout",
          "text": [
            "[(0, 'Python'), (1, 'Java'), (2, 'JavaScript')]\n"
          ]
        }
      ]
    },
    {
      "cell_type": "code",
      "source": [
        "langs =  ['Python', 'Java', 'JavaScript']\n",
        "newlst = [(idx,lang) for idx,lang in enumerate(langs,start = 1)]\n",
        "print(newlst)"
      ],
      "metadata": {
        "colab": {
          "base_uri": "https://localhost:8080/"
        },
        "id": "FmThA0LBX9_k",
        "outputId": "84388f64-72c6-487f-a7ea-a571ad547ea3"
      },
      "execution_count": 21,
      "outputs": [
        {
          "output_type": "stream",
          "name": "stdout",
          "text": [
            "[(1, 'Python'), (2, 'Java'), (3, 'JavaScript')]\n"
          ]
        }
      ]
    },
    {
      "cell_type": "code",
      "source": [
        "numbers = [1, 2, 3, 4, 5, 6, 7, 8, 9, 10]\n",
        "\n",
        "even_nums = list(filter(lambda x:x%2==0,numbers))\n",
        "print(even_nums)\n"
      ],
      "metadata": {
        "colab": {
          "base_uri": "https://localhost:8080/"
        },
        "id": "ZxUnbf48YAUE",
        "outputId": "119b20ce-34ae-4d96-858a-373303e8a510"
      },
      "execution_count": 22,
      "outputs": [
        {
          "output_type": "stream",
          "name": "stdout",
          "text": [
            "[2, 4, 6, 8, 10]\n"
          ]
        }
      ]
    },
    {
      "cell_type": "code",
      "source": [
        "ages = [5, 12, 17, 18, 24, 32]\n",
        "age = list(filter(lambda x:x>=18,ages))\n",
        "print(age)"
      ],
      "metadata": {
        "colab": {
          "base_uri": "https://localhost:8080/"
        },
        "id": "TumqE8hiYELt",
        "outputId": "3bb82dbd-bb46-417e-b0e6-19db9f3966b6"
      },
      "execution_count": 23,
      "outputs": [
        {
          "output_type": "stream",
          "name": "stdout",
          "text": [
            "[18, 24, 32]\n"
          ]
        }
      ]
    },
    {
      "cell_type": "code",
      "source": [
        "def convert_to_grade(score):\n",
        "    if score >= 90:\n",
        "        return 'A'\n",
        "    elif score >= 80:\n",
        "        return 'B'\n",
        "    elif score >= 70:\n",
        "        return 'C'\n",
        "    elif score >= 60:\n",
        "        return 'D'\n",
        "    else:\n",
        "        return 'F'\n",
        "\n",
        "scores = [88, 92, 78, 60, 75, 95]\n",
        "\n",
        "grade = list(map(convert_to_grade,scores))\n",
        "print(grade)"
      ],
      "metadata": {
        "colab": {
          "base_uri": "https://localhost:8080/"
        },
        "id": "05ZcBMkmYIGM",
        "outputId": "6bcda5aa-856e-4a0d-9825-7739222ed766"
      },
      "execution_count": 24,
      "outputs": [
        {
          "output_type": "stream",
          "name": "stdout",
          "text": [
            "['B', 'A', 'C', 'D', 'C', 'A']\n"
          ]
        }
      ]
    }
  ]
}