{
  "nbformat": 4,
  "nbformat_minor": 0,
  "metadata": {
    "colab": {
      "provenance": [],
      "authorship_tag": "ABX9TyOeRNK5Efvhgh49m83eQryc",
      "include_colab_link": true
    },
    "kernelspec": {
      "name": "python3",
      "display_name": "Python 3"
    },
    "language_info": {
      "name": "python"
    }
  },
  "cells": [
    {
      "cell_type": "markdown",
      "metadata": {
        "id": "view-in-github",
        "colab_type": "text"
      },
      "source": [
        "<a href=\"https://colab.research.google.com/github/pyojung/AIpython/blob/main/240412.ipynb\" target=\"_parent\"><img src=\"https://colab.research.google.com/assets/colab-badge.svg\" alt=\"Open In Colab\"/></a>"
      ]
    },
    {
      "cell_type": "code",
      "execution_count": 4,
      "metadata": {
        "colab": {
          "base_uri": "https://localhost:8080/"
        },
        "id": "c8DLHRAO35cT",
        "outputId": "8e630626-c5f6-4ecc-992d-45c4a045966d"
      },
      "outputs": [
        {
          "output_type": "stream",
          "name": "stdout",
          "text": [
            "apple\n"
          ]
        }
      ],
      "source": [
        "fruits = [\"banana\", \"apple\", \"orange\",\"cherry\"]\n",
        "\n",
        "print(fruits[1])"
      ]
    },
    {
      "cell_type": "code",
      "source": [
        "numbers = [10,20,30,40,50]\n",
        "\n",
        "print(numbers[-1])"
      ],
      "metadata": {
        "colab": {
          "base_uri": "https://localhost:8080/"
        },
        "id": "MRaV7pafDZ3U",
        "outputId": "71168fdd-ea8e-4ebc-ffcc-24ddb5ca6110"
      },
      "execution_count": 7,
      "outputs": [
        {
          "output_type": "stream",
          "name": "stdout",
          "text": [
            "50\n"
          ]
        }
      ]
    },
    {
      "cell_type": "code",
      "source": [
        "fruits = [\"apple\",\"banana\", \"cherry\"]\n",
        "fruits[1] = \"grape\"\n",
        "print(fruits)"
      ],
      "metadata": {
        "colab": {
          "base_uri": "https://localhost:8080/"
        },
        "id": "OtPUSWn3Dw2y",
        "outputId": "8c2d83ea-9cbe-4af4-8434-16bbed9c7ca6"
      },
      "execution_count": 9,
      "outputs": [
        {
          "output_type": "stream",
          "name": "stdout",
          "text": [
            "['apple', 'grape', 'cherry']\n"
          ]
        }
      ]
    },
    {
      "cell_type": "code",
      "source": [
        "fruits = [\"apple\",\"banana\", \"cherry\"]\n",
        "fruits.append(\"strawberry\")\n",
        "print(fruits)"
      ],
      "metadata": {
        "colab": {
          "base_uri": "https://localhost:8080/"
        },
        "id": "z3dyv-DeEh8T",
        "outputId": "6908ea56-a837-4292-ade2-ea8bfc16d410"
      },
      "execution_count": 10,
      "outputs": [
        {
          "output_type": "stream",
          "name": "stdout",
          "text": [
            "['apple', 'banana', 'cherry', 'strawberry']\n"
          ]
        }
      ]
    },
    {
      "cell_type": "code",
      "source": [
        "numbers = [10,20,30,40,50]\n",
        "numbers.pop(2)\n",
        "print(numbers)"
      ],
      "metadata": {
        "colab": {
          "base_uri": "https://localhost:8080/"
        },
        "id": "JSxJcmpaExVC",
        "outputId": "be722f8f-fd0e-4cc7-b9fe-0a7ef60eacf1"
      },
      "execution_count": 11,
      "outputs": [
        {
          "output_type": "stream",
          "name": "stdout",
          "text": [
            "[10, 20, 40, 50]\n"
          ]
        }
      ]
    },
    {
      "cell_type": "code",
      "source": [
        "numbers = [5,10,15,20,25]\n",
        "\n",
        "print(len(numbers))"
      ],
      "metadata": {
        "colab": {
          "base_uri": "https://localhost:8080/"
        },
        "id": "rstCmf9LFEI6",
        "outputId": "8dff0d3d-2e4e-4c6d-9dc6-e1075ea3b5ad"
      },
      "execution_count": 13,
      "outputs": [
        {
          "output_type": "stream",
          "name": "stdout",
          "text": [
            "5\n"
          ]
        }
      ]
    },
    {
      "cell_type": "code",
      "source": [
        "numbers = [10,5,8,3,15]\n",
        "\n",
        "print(min(numbers))\n",
        "print(max(numbers))"
      ],
      "metadata": {
        "colab": {
          "base_uri": "https://localhost:8080/"
        },
        "id": "0a4VxWKAFiTR",
        "outputId": "bfab3c75-8165-4fea-cda8-650edd424366"
      },
      "execution_count": 14,
      "outputs": [
        {
          "output_type": "stream",
          "name": "stdout",
          "text": [
            "3\n",
            "15\n"
          ]
        }
      ]
    },
    {
      "cell_type": "code",
      "source": [
        "numbers = [10,20,30,40,50]\n",
        "\n",
        "print(sum(numbers))"
      ],
      "metadata": {
        "colab": {
          "base_uri": "https://localhost:8080/"
        },
        "id": "kN0GjBVkF0ec",
        "outputId": "be497902-5277-4de1-93e9-c0340f8d4556"
      },
      "execution_count": 16,
      "outputs": [
        {
          "output_type": "stream",
          "name": "stdout",
          "text": [
            "150\n"
          ]
        }
      ]
    },
    {
      "cell_type": "code",
      "source": [
        "numbers = [1,2,3,4,5]\n",
        "newlist=[]\n",
        "\n",
        "for num in numbers:\n",
        "  newlist.append(num**2)\n",
        "print(newlist)"
      ],
      "metadata": {
        "colab": {
          "base_uri": "https://localhost:8080/"
        },
        "id": "oElvIVcCF9Yl",
        "outputId": "82cef10f-30b4-470a-d6f9-3cb30212d93b"
      },
      "execution_count": 18,
      "outputs": [
        {
          "output_type": "stream",
          "name": "stdout",
          "text": [
            "[1, 4, 9, 16, 25]\n"
          ]
        }
      ]
    },
    {
      "cell_type": "code",
      "source": [
        "fruits = [\"apple\",\"banana\", \"apple\",\"cherry\",\"apple\"]\n",
        "\n",
        "print(fruits.count(\"apple\"))"
      ],
      "metadata": {
        "colab": {
          "base_uri": "https://localhost:8080/"
        },
        "id": "et732lHaGqu0",
        "outputId": "507300c5-a4bf-49cd-a684-1cf5bab01fab"
      },
      "execution_count": 21,
      "outputs": [
        {
          "output_type": "stream",
          "name": "stdout",
          "text": [
            "3\n"
          ]
        }
      ]
    },
    {
      "cell_type": "code",
      "source": [
        "def square(x):\n",
        "  return x**2"
      ],
      "metadata": {
        "id": "pR8WU70HLPJN"
      },
      "execution_count": 22,
      "outputs": []
    },
    {
      "cell_type": "code",
      "source": [
        "ret = square(6)\n",
        "print(ret)"
      ],
      "metadata": {
        "colab": {
          "base_uri": "https://localhost:8080/"
        },
        "id": "ZqHYaIe8La2D",
        "outputId": "cfe1aba6-737c-4bc3-c046-b92ad87533fb"
      },
      "execution_count": 23,
      "outputs": [
        {
          "output_type": "stream",
          "name": "stdout",
          "text": [
            "36\n"
          ]
        }
      ]
    },
    {
      "cell_type": "code",
      "source": [
        "def square(x):\n",
        "  result = x**2\n",
        "  return result"
      ],
      "metadata": {
        "id": "AbaxSzi6Lk3j"
      },
      "execution_count": 25,
      "outputs": []
    },
    {
      "cell_type": "code",
      "source": [
        "print(square(6))"
      ],
      "metadata": {
        "colab": {
          "base_uri": "https://localhost:8080/"
        },
        "id": "ZCsxfKh9MCyD",
        "outputId": "5732b6d0-b562-4ca6-c3c6-0ed8fe267ed6"
      },
      "execution_count": 26,
      "outputs": [
        {
          "output_type": "stream",
          "name": "stdout",
          "text": [
            "36\n"
          ]
        }
      ]
    },
    {
      "cell_type": "code",
      "source": [
        "print(square(5))\n",
        "print(square(10))\n",
        "print(square(15))\n",
        "print(square(20))\n",
        "\n"
      ],
      "metadata": {
        "colab": {
          "base_uri": "https://localhost:8080/"
        },
        "id": "LkLaQWqxMfwl",
        "outputId": "9131b707-8bc4-492f-b8d4-6bdc128b9ef8"
      },
      "execution_count": 27,
      "outputs": [
        {
          "output_type": "stream",
          "name": "stdout",
          "text": [
            "25\n",
            "100\n",
            "225\n",
            "400\n"
          ]
        }
      ]
    },
    {
      "cell_type": "code",
      "source": [
        "def new_list_square(numbers):\n",
        "  newlst = []\n",
        "  for num in numbers:\n",
        "    newlst.append(num**2)\n",
        "\n",
        "  return newlst"
      ],
      "metadata": {
        "id": "4szto4niMuuD"
      },
      "execution_count": 30,
      "outputs": []
    },
    {
      "cell_type": "code",
      "source": [
        "numbers = [1,2,3,4,5]\n",
        "\n",
        "print(new_list_square(numbers))"
      ],
      "metadata": {
        "colab": {
          "base_uri": "https://localhost:8080/"
        },
        "id": "02o7boAhM-qL",
        "outputId": "9094a307-a20c-4282-f397-557667d898a9"
      },
      "execution_count": 31,
      "outputs": [
        {
          "output_type": "stream",
          "name": "stdout",
          "text": [
            "[1, 4, 9, 16, 25]\n"
          ]
        }
      ]
    },
    {
      "cell_type": "code",
      "source": [
        "def BMI(h,w):\n",
        "  bmi = w/((h/100)**2)\n",
        "  return bmi\n"
      ],
      "metadata": {
        "id": "r88aQm1sPON1"
      },
      "execution_count": 34,
      "outputs": []
    },
    {
      "cell_type": "code",
      "source": [
        "my_bmi = BMI(180,65)\n",
        "print(my_bmi)"
      ],
      "metadata": {
        "colab": {
          "base_uri": "https://localhost:8080/"
        },
        "id": "hquRYFtdPmJj",
        "outputId": "a3a1c073-f93a-423f-f333-8432116d7c7a"
      },
      "execution_count": 35,
      "outputs": [
        {
          "output_type": "stream",
          "name": "stdout",
          "text": [
            "20.061728395061728\n"
          ]
        }
      ]
    }
  ]
}